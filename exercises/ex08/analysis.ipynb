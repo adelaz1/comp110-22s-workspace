{
 "cells": [
  {
   "cell_type": "markdown",
   "metadata": {},
   "source": [
    "# Analysis for Continuous Improvement\n",
    "\n",
    "Author Name: Adela Zhang\n",
    "\n",
    "9-digit PID: 730490894\n",
    "\n",
    "Continuous Improvement embraces a belief there is _always room to make things better_. It is a mindset and process we value and practice in this course. In this assignment, you are able to practice continuous improvement and contribute to the design ideas of the course.\n",
    "\n",
    "## Brainstorming Ideas\n",
    "\n",
    "Reflect on your personal experiences and observations in COMP110 and **brainstorm modifications to the course that _create value_ beyond its current design**. When brainstorming, try not to be critical of the ideas you come up with regarding scale, stakeholders impacted, or for any other reasons. In the markdown cell below, brainstorm 3 to 5 ideas you think would create value for you.\n",
    "\n",
    "Each brainstormed idea should state a. the suggested change or addition, b. what the expected value created, and c. which specific stakeholders would benefit.  If helpful, expand on the following template \"The course should (state idea here) because it will (state value created here) for (insert stakeholders here).\"\n",
    "\n",
    "Example A: \"The course should use only examples from psychology experiments because it will be more relevant for students who are psychology majors.\"\n",
    "\n",
    "Example B: \"The course should not have post-lesson questions because they are not useful for most students in the class.\""
   ]
  },
  {
   "cell_type": "markdown",
   "metadata": {},
   "source": [
    "### Part 1. Creative Ideation\n",
    "\n",
    "1. The course should move to synchronous meetings on Tuesdays because most students in the class will learn more efficiently in a classroom setting.\n",
    "2. The course should use examples from various disciplines because it will help all students in the class, who come from different majors.\n",
    "3. The course should implement more math or logic-focused lessons because it will be more beneficial for students that have not completed a quantitative prerequisite.\n",
    "4. The course should implement lessons that are specifically related to higher-level computer science courses because it will provide a better background for students that are interested in majoring in computer science.\n",
    "5. The course should provide more resources on the introduction to programming because the lessons may not be sufficient for students that are struggling to comprehend programming without prior experience."
   ]
  },
  {
   "cell_type": "markdown",
   "metadata": {},
   "source": [
    "## Connecting with Available Data\n",
    "\n",
    "The data you have available for this analysis is limited to the anonymized course survey you and your peers filled out a few weeks ago. The data is found in the `survey.csv` file in this exercise directory. Each row represents an individual survey response. Each column has a description which can be found on the project write-up here: <https://22s.comp110.com/exercises/ex08.html>\n",
    "\n",
    "Review the list of available data and identify which one of your ideas _does not_, or is _least likely to_, have relevant data to support the analysis of your idea to create value. In the box below, identify which of your ideas lacks data and suggest how we might be able to collect this data in the future. One aspect of _continuous improvement_ is trying to avoid \"tunnel vision\" where possible improvements are not considered because there is no data available to analyze it. Identifying new data sources can unlock improvements!"
   ]
  },
  {
   "cell_type": "markdown",
   "metadata": {},
   "source": [
    "### Part 2. Identifying Missing Data\n",
    "\n",
    "1. Idea without sufficient data to analyze:  The course should implement lessons that are specifically related to higher-level computer science courses because it will provide a better background for students that are interested in majoring in computer science.\n",
    "\n",
    "2. Suggestion for how to collect data to support this idea in the future: While the data does provide how many COMP110 students are majoring in computer science, this idea does not have sufficient evidence to support an analysis because COMP110 students do not understand the material of higher-level computer science courses yet. One suggestion for gathering this data would be to survey higher-level computer science students and ask how well COMP110 prepared them for the material in these courses."
   ]
  },
  {
   "cell_type": "markdown",
   "metadata": {},
   "source": [
    "## Choosing an Idea to Analyze\n",
    "\n",
    "Consider those of your ideas which _do_ seem likely to have relevant data to analyze. If none of your ideas do, spend a few minutes and brainstorm another idea or two with the added connection of data available on hand and add those ideas to your brainstormed ideas list.\n",
    "\n",
    "Select the one idea which you believe is _most valuable_ to analyze relative to the others and has data to support the analysis of. In the markdown cell for Part 3 below, identify the idea you are exploring and articulate why you believe it is most valuable (e.g. widest impact, biggest opportunity for improvement, simplest change for significant improvement, and so on)."
   ]
  },
  {
   "cell_type": "markdown",
   "metadata": {},
   "source": [
    "### Part 3. Choosing Your Analysis\n",
    "\n",
    "1. Idea to analyze with available data: The course should provide more resources on the introduction to programming because the lessons may not be sufficient for students that are struggling to comprehend programming without prior experience.\n",
    "\n",
    "2. This idea is more valuable than the others brainstormed because: not only does the idea have sufficient data to complete the anaylysis, through the difficulty and prior experience of the course, one of the hardest parts of learning computer programming for the first time is that programming itself is an entirely new language to understand. Providing more resources that students can explore if they are struggling may give beginner and novice students the strong foundations that are crucial to understanding computer programming.\n"
   ]
  },
  {
   "cell_type": "markdown",
   "metadata": {},
   "source": [
    "## Your Analysis\n",
    "\n",
    "Before you begin analysis, a reminder that we do not expect the data to support everyone's ideas and you can complete this exercise for full credit even if the data does not clearly support your suggestion or even completely refutes it. What we are looking for is a logical attempt to explore the data using the techniques you have learned up until now in a way that _either_ supports, refutes, or does not have a clear result and then to reflect on your findings after the analysis.\n",
    "\n",
    "Using the utility functions you created for the previous exercise, you will continue with your analysis in the following part. Before you begin, refer to the rubric on the technical expectations of this section in the exercise write-up.\n",
    "\n",
    "In this section, you are expected to interleave code and markdown cells such that for each step of your analysis you are starting with an English description of what you are planning to do next in a markdown cell, followed by a Python cell that performs that step of the analysis."
   ]
  },
  {
   "cell_type": "markdown",
   "metadata": {},
   "source": [
    "### Part 4. Analysis\n",
    "\n",
    "We begin by changing some settings in the notebook to automatically reload changes to imported files."
   ]
  },
  {
   "cell_type": "code",
   "execution_count": 145,
   "metadata": {},
   "outputs": [],
   "source": [
    "%reload_ext autoreload\n",
    "%autoreload 2"
   ]
  },
  {
   "cell_type": "markdown",
   "metadata": {},
   "source": [
    "We continue by importing the helper functions from `data_utils`."
   ]
  },
  {
   "cell_type": "code",
   "execution_count": 146,
   "metadata": {},
   "outputs": [],
   "source": [
    "# TODO: You complete the code blocks from here forward!\n",
    "from data_utils import read_csv_rows\n",
    "from data_utils import columnar\n",
    "from data_utils import head\n",
    "from data_utils import select\n",
    "from data_utils import count\n",
    "from data_utils import column_values\n",
    "from tabulate import tabulate"
   ]
  },
  {
   "cell_type": "markdown",
   "metadata": {},
   "source": [
    "Next, ... (you take it from here and add additional code and markdown cells to read in the CSV file and process it as needed)"
   ]
  },
  {
   "cell_type": "code",
   "execution_count": 147,
   "metadata": {},
   "outputs": [],
   "source": [
    "SURVEY_DATA_CSV_FILE_PATH: str = \"../../data/survey.csv\""
   ]
  },
  {
   "cell_type": "markdown",
   "metadata": {},
   "source": [
    "First, I will use the `read_csv_rows` and `columnar` functions to provide a general analysis of the data and establish variables that I can easily access in further steps so I can focus on the relevant data."
   ]
  },
  {
   "cell_type": "code",
   "execution_count": 148,
   "metadata": {},
   "outputs": [
    {
     "name": "stdout",
     "output_type": "stream",
     "text": [
      "620 rows\n",
      "35 columns\n",
      "Columns names: dict_keys(['row', 'year', 'unc_status', 'comp_major', 'primary_major', 'data_science', 'prereqs', 'prior_exp', 'ap_principles', 'ap_a', 'other_comp', 'prior_time', 'languages', 'hours_online_social', 'hours_online_work', 'lesson_time', 'sync_perf', 'all_sync', 'flipped_class', 'no_hybrid', 'own_notes', 'own_examples', 'oh_visits', 'ls_effective', 'lsqs_effective', 'programming_effective', 'qz_effective', 'oh_effective', 'tutoring_effective', 'pace', 'difficulty', 'understanding', 'interesting', 'valuable', 'would_recommend'])\n",
      "35 columns\n",
      "620 rows\n",
      "Columns names: dict_keys(['row', 'year', 'unc_status', 'comp_major', 'primary_major', 'data_science', 'prereqs', 'prior_exp', 'ap_principles', 'ap_a', 'other_comp', 'prior_time', 'languages', 'hours_online_social', 'hours_online_work', 'lesson_time', 'sync_perf', 'all_sync', 'flipped_class', 'no_hybrid', 'own_notes', 'own_examples', 'oh_visits', 'ls_effective', 'lsqs_effective', 'programming_effective', 'qz_effective', 'oh_effective', 'tutoring_effective', 'pace', 'difficulty', 'understanding', 'interesting', 'valuable', 'would_recommend'])\n"
     ]
    }
   ],
   "source": [
    "data_rows: list[dict[str, str]] = read_csv_rows(SURVEY_DATA_CSV_FILE_PATH)\n",
    "print(f\"{len(data_rows)} rows\")\n",
    "print(f\"{len(data_rows[0].keys())} columns\")\n",
    "print(f\"Columns names: {data_rows[0].keys()}\")\n",
    "\n",
    "data_cols: dict[str, list[str]] = columnar(data_rows)\n",
    "print(f\"{len(data_cols.keys())} columns\")\n",
    "print(f\"{len(data_cols['difficulty'])} rows\")\n",
    "print(f\"Columns names: {data_cols.keys()}\")\n"
   ]
  },
  {
   "cell_type": "markdown",
   "metadata": {},
   "source": [
    "Next, I used the `select` and `head` functions to create a table that compares the first 50 students of the two columns of prior experience and perceived difficulty of the course to understand a general idea of whether lack of experience and perceived difficulty are related."
   ]
  },
  {
   "cell_type": "code",
   "execution_count": 149,
   "metadata": {},
   "outputs": [
    {
     "data": {
      "text/html": [
       "<table>\n",
       "<thead>\n",
       "<tr><th>prior_exp                   </th><th style=\"text-align: right;\">  difficulty</th></tr>\n",
       "</thead>\n",
       "<tbody>\n",
       "<tr><td>7-12 months                 </td><td style=\"text-align: right;\">           1</td></tr>\n",
       "<tr><td>None to less than one month!</td><td style=\"text-align: right;\">           6</td></tr>\n",
       "<tr><td>None to less than one month!</td><td style=\"text-align: right;\">           4</td></tr>\n",
       "<tr><td>2-6 months                  </td><td style=\"text-align: right;\">           4</td></tr>\n",
       "<tr><td>None to less than one month!</td><td style=\"text-align: right;\">           5</td></tr>\n",
       "<tr><td>2-6 months                  </td><td style=\"text-align: right;\">           3</td></tr>\n",
       "<tr><td>2-6 months                  </td><td style=\"text-align: right;\">           4</td></tr>\n",
       "<tr><td>None to less than one month!</td><td style=\"text-align: right;\">           4</td></tr>\n",
       "<tr><td>None to less than one month!</td><td style=\"text-align: right;\">           4</td></tr>\n",
       "<tr><td>None to less than one month!</td><td style=\"text-align: right;\">           4</td></tr>\n",
       "<tr><td>2-6 months                  </td><td style=\"text-align: right;\">           3</td></tr>\n",
       "<tr><td>2-6 months                  </td><td style=\"text-align: right;\">           4</td></tr>\n",
       "<tr><td>None to less than one month!</td><td style=\"text-align: right;\">           5</td></tr>\n",
       "<tr><td>2-6 months                  </td><td style=\"text-align: right;\">           3</td></tr>\n",
       "<tr><td>None to less than one month!</td><td style=\"text-align: right;\">           4</td></tr>\n",
       "<tr><td>2-6 months                  </td><td style=\"text-align: right;\">           7</td></tr>\n",
       "<tr><td>None to less than one month!</td><td style=\"text-align: right;\">           7</td></tr>\n",
       "<tr><td>1-2 years                   </td><td style=\"text-align: right;\">           4</td></tr>\n",
       "<tr><td>None to less than one month!</td><td style=\"text-align: right;\">           7</td></tr>\n",
       "<tr><td>None to less than one month!</td><td style=\"text-align: right;\">           2</td></tr>\n",
       "<tr><td>None to less than one month!</td><td style=\"text-align: right;\">           4</td></tr>\n",
       "<tr><td>None to less than one month!</td><td style=\"text-align: right;\">           5</td></tr>\n",
       "<tr><td>2-6 months                  </td><td style=\"text-align: right;\">           5</td></tr>\n",
       "<tr><td>None to less than one month!</td><td style=\"text-align: right;\">           6</td></tr>\n",
       "<tr><td>None to less than one month!</td><td style=\"text-align: right;\">           7</td></tr>\n",
       "<tr><td>None to less than one month!</td><td style=\"text-align: right;\">           5</td></tr>\n",
       "<tr><td>None to less than one month!</td><td style=\"text-align: right;\">           4</td></tr>\n",
       "<tr><td>None to less than one month!</td><td style=\"text-align: right;\">           4</td></tr>\n",
       "<tr><td>7-12 months                 </td><td style=\"text-align: right;\">           3</td></tr>\n",
       "<tr><td>None to less than one month!</td><td style=\"text-align: right;\">           5</td></tr>\n",
       "<tr><td>None to less than one month!</td><td style=\"text-align: right;\">           6</td></tr>\n",
       "<tr><td>None to less than one month!</td><td style=\"text-align: right;\">           5</td></tr>\n",
       "<tr><td>None to less than one month!</td><td style=\"text-align: right;\">           6</td></tr>\n",
       "<tr><td>None to less than one month!</td><td style=\"text-align: right;\">           4</td></tr>\n",
       "<tr><td>None to less than one month!</td><td style=\"text-align: right;\">           4</td></tr>\n",
       "<tr><td>None to less than one month!</td><td style=\"text-align: right;\">           4</td></tr>\n",
       "<tr><td>2-6 months                  </td><td style=\"text-align: right;\">           6</td></tr>\n",
       "<tr><td>None to less than one month!</td><td style=\"text-align: right;\">           5</td></tr>\n",
       "<tr><td>2-6 months                  </td><td style=\"text-align: right;\">           3</td></tr>\n",
       "<tr><td>None to less than one month!</td><td style=\"text-align: right;\">           5</td></tr>\n",
       "<tr><td>2-6 months                  </td><td style=\"text-align: right;\">           3</td></tr>\n",
       "<tr><td>None to less than one month!</td><td style=\"text-align: right;\">           5</td></tr>\n",
       "<tr><td>None to less than one month!</td><td style=\"text-align: right;\">           5</td></tr>\n",
       "<tr><td>None to less than one month!</td><td style=\"text-align: right;\">           7</td></tr>\n",
       "<tr><td>None to less than one month!</td><td style=\"text-align: right;\">           5</td></tr>\n",
       "<tr><td>None to less than one month!</td><td style=\"text-align: right;\">           3</td></tr>\n",
       "<tr><td>2-6 months                  </td><td style=\"text-align: right;\">           4</td></tr>\n",
       "<tr><td>7-12 months                 </td><td style=\"text-align: right;\">           4</td></tr>\n",
       "<tr><td>None to less than one month!</td><td style=\"text-align: right;\">           6</td></tr>\n",
       "<tr><td>1-2 years                   </td><td style=\"text-align: right;\">           3</td></tr>\n",
       "</tbody>\n",
       "</table>"
      ],
      "text/plain": [
       "'<table>\\n<thead>\\n<tr><th>prior_exp                   </th><th style=\"text-align: right;\">  difficulty</th></tr>\\n</thead>\\n<tbody>\\n<tr><td>7-12 months                 </td><td style=\"text-align: right;\">           1</td></tr>\\n<tr><td>None to less than one month!</td><td style=\"text-align: right;\">           6</td></tr>\\n<tr><td>None to less than one month!</td><td style=\"text-align: right;\">           4</td></tr>\\n<tr><td>2-6 months                  </td><td style=\"text-align: right;\">           4</td></tr>\\n<tr><td>None to less than one month!</td><td style=\"text-align: right;\">           5</td></tr>\\n<tr><td>2-6 months                  </td><td style=\"text-align: right;\">           3</td></tr>\\n<tr><td>2-6 months                  </td><td style=\"text-align: right;\">           4</td></tr>\\n<tr><td>None to less than one month!</td><td style=\"text-align: right;\">           4</td></tr>\\n<tr><td>None to less than one month!</td><td style=\"text-align: right;\">           4</td></tr>\\n<tr><td>None to less than one month!</td><td style=\"text-align: right;\">           4</td></tr>\\n<tr><td>2-6 months                  </td><td style=\"text-align: right;\">           3</td></tr>\\n<tr><td>2-6 months                  </td><td style=\"text-align: right;\">           4</td></tr>\\n<tr><td>None to less than one month!</td><td style=\"text-align: right;\">           5</td></tr>\\n<tr><td>2-6 months                  </td><td style=\"text-align: right;\">           3</td></tr>\\n<tr><td>None to less than one month!</td><td style=\"text-align: right;\">           4</td></tr>\\n<tr><td>2-6 months                  </td><td style=\"text-align: right;\">           7</td></tr>\\n<tr><td>None to less than one month!</td><td style=\"text-align: right;\">           7</td></tr>\\n<tr><td>1-2 years                   </td><td style=\"text-align: right;\">           4</td></tr>\\n<tr><td>None to less than one month!</td><td style=\"text-align: right;\">           7</td></tr>\\n<tr><td>None to less than one month!</td><td style=\"text-align: right;\">           2</td></tr>\\n<tr><td>None to less than one month!</td><td style=\"text-align: right;\">           4</td></tr>\\n<tr><td>None to less than one month!</td><td style=\"text-align: right;\">           5</td></tr>\\n<tr><td>2-6 months                  </td><td style=\"text-align: right;\">           5</td></tr>\\n<tr><td>None to less than one month!</td><td style=\"text-align: right;\">           6</td></tr>\\n<tr><td>None to less than one month!</td><td style=\"text-align: right;\">           7</td></tr>\\n<tr><td>None to less than one month!</td><td style=\"text-align: right;\">           5</td></tr>\\n<tr><td>None to less than one month!</td><td style=\"text-align: right;\">           4</td></tr>\\n<tr><td>None to less than one month!</td><td style=\"text-align: right;\">           4</td></tr>\\n<tr><td>7-12 months                 </td><td style=\"text-align: right;\">           3</td></tr>\\n<tr><td>None to less than one month!</td><td style=\"text-align: right;\">           5</td></tr>\\n<tr><td>None to less than one month!</td><td style=\"text-align: right;\">           6</td></tr>\\n<tr><td>None to less than one month!</td><td style=\"text-align: right;\">           5</td></tr>\\n<tr><td>None to less than one month!</td><td style=\"text-align: right;\">           6</td></tr>\\n<tr><td>None to less than one month!</td><td style=\"text-align: right;\">           4</td></tr>\\n<tr><td>None to less than one month!</td><td style=\"text-align: right;\">           4</td></tr>\\n<tr><td>None to less than one month!</td><td style=\"text-align: right;\">           4</td></tr>\\n<tr><td>2-6 months                  </td><td style=\"text-align: right;\">           6</td></tr>\\n<tr><td>None to less than one month!</td><td style=\"text-align: right;\">           5</td></tr>\\n<tr><td>2-6 months                  </td><td style=\"text-align: right;\">           3</td></tr>\\n<tr><td>None to less than one month!</td><td style=\"text-align: right;\">           5</td></tr>\\n<tr><td>2-6 months                  </td><td style=\"text-align: right;\">           3</td></tr>\\n<tr><td>None to less than one month!</td><td style=\"text-align: right;\">           5</td></tr>\\n<tr><td>None to less than one month!</td><td style=\"text-align: right;\">           5</td></tr>\\n<tr><td>None to less than one month!</td><td style=\"text-align: right;\">           7</td></tr>\\n<tr><td>None to less than one month!</td><td style=\"text-align: right;\">           5</td></tr>\\n<tr><td>None to less than one month!</td><td style=\"text-align: right;\">           3</td></tr>\\n<tr><td>2-6 months                  </td><td style=\"text-align: right;\">           4</td></tr>\\n<tr><td>7-12 months                 </td><td style=\"text-align: right;\">           4</td></tr>\\n<tr><td>None to less than one month!</td><td style=\"text-align: right;\">           6</td></tr>\\n<tr><td>1-2 years                   </td><td style=\"text-align: right;\">           3</td></tr>\\n</tbody>\\n</table>'"
      ]
     },
     "execution_count": 149,
     "metadata": {},
     "output_type": "execute_result"
    }
   ],
   "source": [
    "selected_data: dict[str, list[str]] = select(data_cols, [\"prior_exp\", \"difficulty\"])\n",
    "selected_data = head(selected_data, 50)\n",
    "tabulate(selected_data, selected_data.keys(), \"html\")"
   ]
  },
  {
   "cell_type": "markdown",
   "metadata": {},
   "source": [
    "Then, I used the `count` function to generate the distributions of prior experience and perceived difficulty of the course."
   ]
  },
  {
   "cell_type": "code",
   "execution_count": 150,
   "metadata": {},
   "outputs": [
    {
     "name": "stdout",
     "output_type": "stream",
     "text": [
      "Prior Experience: {'7-12 months': 3, 'None to less than one month!': 33, '2-6 months': 12, '1-2 years': 2}\n",
      "Perceived Difficulty: {'1': 1, '6': 6, '4': 17, '5': 12, '3': 8, '7': 5, '2': 1}\n"
     ]
    }
   ],
   "source": [
    "prior_experience: dict[str, int] = count(selected_data[\"prior_exp\"])\n",
    "print(f\"Prior Experience: {prior_experience}\")\n",
    "\n",
    "difficulty: dict[str, int] = count(selected_data[\"difficulty\"])\n",
    "print(f\"Perceived Difficulty: {difficulty}\")"
   ]
  },
  {
   "cell_type": "markdown",
   "metadata": {},
   "source": [
    "Using these values, I created two graphs that show these distributions."
   ]
  },
  {
   "cell_type": "code",
   "execution_count": 151,
   "metadata": {},
   "outputs": [
    {
     "data": {
      "text/plain": [
       "<BarContainer object of 7 artists>"
      ]
     },
     "execution_count": 151,
     "metadata": {},
     "output_type": "execute_result"
    },
    {
     "data": {
      "image/png": "[encoded data removed]",
      "text/plain": [
       "<Figure size 864x360 with 2 Axes>"
      ]
     },
     "metadata": {
      "needs_background": "light"
     },
     "output_type": "display_data"
    }
   ],
   "source": [
    "from matplotlib import pyplot as plt\n",
    "\n",
    "fig, axes = plt.subplots(1, 2, figsize=(12, 5), sharey=True)\n",
    "fig.suptitle(\"COMP110 Students Survey\")\n",
    "\n",
    "\n",
    "axes[0].set_title(\"Prior Experience\")\n",
    "axes[0].bar(prior_experience.keys(), prior_experience.values())\n",
    "axes[0].tick_params(axis='x', labelrotation = 45)\n",
    "\n",
    "axes[1].set_title(\"Perceived Difficulty\")\n",
    "axes[1].bar(sorted(difficulty.keys()), difficulty.values())"
   ]
  },
  {
   "cell_type": "markdown",
   "metadata": {},
   "source": [
    "Last, I used two functions, including a helper function, to find the percentage of total students in COMP110 that perceive the difficulty level of the class as greater than 4."
   ]
  },
  {
   "cell_type": "code",
   "execution_count": 152,
   "metadata": {},
   "outputs": [
    {
     "name": "stdout",
     "output_type": "stream",
     "text": [
      "299 students answered a difficulty level of 5 or higher.\n",
      "48.225806451612904% of COMP110 students perceive the class with a difficulty of 5 or higher.\n"
     ]
    }
   ],
   "source": [
    "def difficult(data: dict[str, list[str]]) -> list[int]:\n",
    "    \"\"\"Helper function to find difficulty values greater than 4.\"\"\"\n",
    "    diff_level: list[str] = column_values(data_rows, \"difficulty\")\n",
    "    values: list[int] = []\n",
    "    for item in diff_level:\n",
    "        if int(item) > 4:\n",
    "            values.append(int(item))\n",
    "    return values\n",
    "\n",
    "def ratio(dataset_one: list[int], dataset_two: list[dict[str, str]]) -> float:\n",
    "    \"\"\"Function that will compute the percentage of COMP110 students that answered greater than 4 difficulty.\"\"\"\n",
    "    percent: float = 0.0\n",
    "    percent = len(dataset_one)/len(dataset_two) * 100\n",
    "    return percent\n",
    "\n",
    "print(f\"{len(difficult(data_cols))} students answered a difficulty level of 5 or higher.\")\n",
    "print(f\"{ratio(difficult(data_cols), data_rows)}% of COMP110 students perceive the class with a difficulty of 5 or higher.\")\n",
    "\n",
    "\n"
   ]
  },
  {
   "cell_type": "markdown",
   "metadata": {},
   "source": [
    "## Conclusion\n",
    "\n",
    "In the following markdown cell, write a reflective conclusion given the analysis you performed and identify recommendations.\n",
    "\n",
    "If your analysis of the data supports your idea, state your recommendation for the change and summarize the data analysys results you found which support it. Additionally, describe any extensions or refinements to this idea which might be explored further. Finally, discuss the potential costs, trade-offs, or stakeholders who may be negatively impacted by this proposed change.\n",
    "\n",
    "If your analysis of the data is inconclusive, summarize why your data analysis results were inconclusive in the support of your idea. Additionally, describe what experimental idea implementation or additional data collection might help build more confidence in assessing your idea. Finally, discuss the potential costs, trade-offs, or stakeholders who may be negatively impacted by experimenting with your idea.\n",
    "\n",
    "Finally, if your analysis of the data does not support it, summarize your data analysis results and why it refutes your idea. Discuss the potential costs, trade-offs, or stakeholders who may be negatively impacted by this proposed change. If you disagree with the validity of the findings, describe why your idea still makes sense to implement and what alternative data would better support it. If you agree with the validity of the data analysis, describe what alternate ideas or extensions you would explore instead. "
   ]
  },
  {
   "cell_type": "markdown",
   "metadata": {},
   "source": [
    "### Part 5. Conclusion\n",
    "\n",
    "Using data collected from students in COMP110, I analyzed the distributions of prior experience and perceived difficulty of the students. Currently, 369/620 students in the class have \"None to less than one month!\" of prior experience, and 48.23% of students perceive the class to be a difficulty level of 5 or higher. According to the visual representations of the data, the distribution of prior experience is skewed right, and the difficulty is close to a normal distribution. In addition to these statistics of the class, I created a general comparison of these two demographics with each other. Out of a smaller sample of 50 students, most of the students that perceive the class to have a difficulty of 5 or higher, also have \"None to less than one month!\" of prior experience.\n",
    "\n",
    "The results of my data analysis were inconclusive. While the general representation of the data alludes to a correlation between prior experience and perceived difficulty, the analysis of the data that compared the two values was only conducted visually, and provides a general summary and rudimentary conclusion that prior experience and perceived difficulty are related. However, the data analysis indicates that almost half of the class still tend to find the class more difficult, and a large majority of the class have none to little experience with programming. Providing additional resources would be beneficial for these groups of students, regardless of whether or not the two demographics are connected with each other.\n",
    "\n",
    "The data analysis would improve greatly if a program was created to read multiple groups from one row of data, and ultimately analyze and count the students that answered both \"None to less than one month!\" of prior experience _and_ greater than 4 difficulty level for the class. This method would provide a faster and clearer representation of the comparison, compared to the visual comparison that was conducted in this analysis.\n",
    "\n",
    "Although I believe the potential positives outweigh the negatives of implementing additonal resources, the potential costs of providing these resources would be that most students would not even look at these resources, and the labors of the faculty may go wasted. Furthermore, some students may end up feeling confused or overwhelmed by all of the additional material, and would not understand how to find help when they need it due to the complexity."
   ]
  }
 ],
 "metadata": {
  "interpreter": {
   "hash": "aee8b7b246df8f9039afb4144a1f6fd8d2ca17a180786b69acc140d282b71a49"
  },
  "kernelspec": {
   "display_name": "Python 3.10.2 64-bit",
   "language": "python",
   "name": "python3"
  },
  "language_info": {
   "codemirror_mode": {
    "name": "ipython",
    "version": 3
   },
   "file_extension": ".py",
   "mimetype": "text/x-python",
   "name": "python",
   "nbconvert_exporter": "python",
   "pygments_lexer": "ipython3",
   "version": "3.10.1"
  },
  "orig_nbformat": 4
 },
 "nbformat": 4,
 "nbformat_minor": 2
}
